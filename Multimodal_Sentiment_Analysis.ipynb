{
  "nbformat": 4,
  "nbformat_minor": 0,
  "metadata": {
    "colab": {
      "provenance": [],
      "authorship_tag": "ABX9TyOSMVf0Ju8ajGhbEGRofZ5H",
      "include_colab_link": true
    },
    "kernelspec": {
      "name": "python3",
      "display_name": "Python 3"
    },
    "language_info": {
      "name": "python"
    }
  },
  "cells": [
    {
      "cell_type": "markdown",
      "metadata": {
        "id": "view-in-github",
        "colab_type": "text"
      },
      "source": [
        "<a href=\"https://colab.research.google.com/github/shaswatgithub/Multimodal-Sentiment-Analysis-using-Transformers/blob/main/Multimodal_Sentiment_Analysis.ipynb\" target=\"_parent\"><img src=\"https://colab.research.google.com/assets/colab-badge.svg\" alt=\"Open In Colab\"/></a>"
      ]
    },
    {
      "cell_type": "code",
      "execution_count": null,
      "metadata": {
        "id": "JsunJ-DS0jW7"
      },
      "outputs": [],
      "source": [
        "!pip install transformers datasets torch torchvision sentencepiece scikit-learn --quiet\n",
        "\n",
        "import torch\n",
        "from torch import nn\n",
        "from torch.utils.data import Dataset, DataLoader\n",
        "from transformers import BertTokenizer, BertModel, ViTModel, ViTFeatureExtractor, AdamW\n",
        "from sklearn.preprocessing import LabelEncoder\n",
        "from sklearn.metrics import accuracy_score\n",
        "from PIL import Image\n",
        "import pandas as pd"
      ]
    },
    {
      "cell_type": "code",
      "source": [
        "data = pd.read_csv('multimodal_sentiment_data.csv')\n"
      ],
      "metadata": {
        "id": "clrFz2kX0j4R"
      },
      "execution_count": null,
      "outputs": []
    },
    {
      "cell_type": "code",
      "source": [
        "le = LabelEncoder()\n",
        "data['label_enc'] = le.fit_transform(data['label'])"
      ],
      "metadata": {
        "id": "cC6iJO_W0j6h"
      },
      "execution_count": null,
      "outputs": []
    },
    {
      "cell_type": "code",
      "source": [
        "bert_tokenizer = BertTokenizer.from_pretrained('bert-base-uncased')\n",
        "vit_extractor = ViTFeatureExtractor.from_pretrained('google/vit-base-patch16-224')\n",
        "\n"
      ],
      "metadata": {
        "id": "mUaOEESt0j9p"
      },
      "execution_count": null,
      "outputs": []
    },
    {
      "cell_type": "code",
      "source": [
        "class MultiModalDataset(Dataset):\n",
        "    def __init__(self, dataframe, tokenizer, feature_extractor, max_len=128):\n",
        "        self.df = dataframe\n",
        "        self.tokenizer = tokenizer\n",
        "        self.feature_extractor = feature_extractor\n",
        "        self.max_len = max_len\n",
        "\n",
        "    def __len__(self):\n",
        "        return len(self.df)\n",
        "\n",
        "    def __getitem__(self, idx):\n",
        "        text = str(self.df.iloc[idx]['text'])\n",
        "        image_path = self.df.iloc[idx]['image_path']\n",
        "        label = self.df.iloc[idx]['label_enc']\n",
        "\n",
        "        text_encoding = self.tokenizer(\n",
        "            text,\n",
        "            max_length=self.max_len,\n",
        "            padding='max_length',\n",
        "            truncation=True,\n",
        "            return_tensors='pt'\n",
        "        )\n",
        ""
      ],
      "metadata": {
        "id": "poCPzc310j_0"
      },
      "execution_count": null,
      "outputs": []
    },
    {
      "cell_type": "code",
      "source": [
        "image = Image.open(image_path).convert('RGB')\n",
        "        image_encoding = self.feature_extractor(images=image, return_tensors='pt')"
      ],
      "metadata": {
        "id": "6O2r7kYF0kHu"
      },
      "execution_count": null,
      "outputs": []
    },
    {
      "cell_type": "code",
      "source": [
        "     input_ids = text_encoding['input_ids'].squeeze(0)\n",
        "        attention_mask = text_encoding['attention_mask'].squeeze(0)\n",
        "        pixel_values = image_encoding['pixel_values'].squeeze(0)\n",
        "\n",
        "        return {\n",
        "            'input_ids': input_ids,\n",
        "            'attention_mask': attention_mask,\n",
        "            'pixel_values': pixel_values,\n",
        "            'labels': torch.tensor(label, dtype=torch.long)\n",
        "        }"
      ],
      "metadata": {
        "id": "bGFXqLyJ0kKq"
      },
      "execution_count": null,
      "outputs": []
    },
    {
      "cell_type": "code",
      "source": [
        "from sklearn.model_selection import train_test_split\n",
        "\n",
        "train_df, val_df = train_test_split(data, test_size=0.2, random_state=42)\n",
        "train_dataset = MultiModalDataset(train_df, bert_tokenizer, vit_extractor)\n",
        "val_dataset = MultiModalDataset(val_df, bert_tokenizer, vit_extractor)\n",
        "\n",
        "train_loader = DataLoader(train_dataset, batch_size=8, shuffle=True)\n",
        "val_loader = DataLoader(val_dataset, batch_size=8, shuffle=False)"
      ],
      "metadata": {
        "id": "iTEDIjaM0kMH"
      },
      "execution_count": null,
      "outputs": []
    },
    {
      "cell_type": "code",
      "source": [
        "class MultiModalModel(nn.Module):\n",
        "    def __init__(self, num_classes):\n",
        "        super(MultiModalModel, self).__init__()\n",
        "        self.text_model = BertModel.from_pretrained('bert-base-uncased')\n",
        "        self.image_model = ViTModel.from_pretrained('google/vit-base-patch16-224')\n",
        "\n",
        "        # Combine features\n",
        "        self.fc = nn.Linear(self.text_model.config.hidden_size + self.image_model.config.hidden_size, 256)\n",
        "        self.classifier = nn.Linear(256, num_classes)\n",
        "        self.dropout = nn.Dropout(0.3)"
      ],
      "metadata": {
        "id": "AXZVSfcN0kNM"
      },
      "execution_count": null,
      "outputs": []
    },
    {
      "cell_type": "code",
      "source": [
        " def forward(self, input_ids, attention_mask, pixel_values):\n",
        "        text_outputs = self.text_model(input_ids=input_ids, attention_mask=attention_mask)\n",
        "        text_features = text_outputs.pooler_output\n",
        "\n",
        "        image_features = self.image_model(pixel_values=pixel_values).pooler_output\n",
        "\n",
        "        combined = torch.cat((text_features, image_features), dim=1)\n",
        "        x = self.dropout(torch.relu(self.fc(combined)))\n",
        "        logits = self.classifier(x)\n",
        "        return logits"
      ],
      "metadata": {
        "id": "fKqPXo_i09DK"
      },
      "execution_count": null,
      "outputs": []
    },
    {
      "cell_type": "code",
      "source": [
        "device = torch.device('cuda' if torch.cuda.is_available() else 'cpu')\n",
        "model = MultiModalModel(num_classes=len(le.classes_)).to(device)\n",
        "\n",
        "criterion = nn.CrossEntropyLoss()\n",
        "optimizer = AdamW(model.parameters(), lr=2e-5)\n"
      ],
      "metadata": {
        "id": "ns-UVSQ309Fs"
      },
      "execution_count": null,
      "outputs": []
    },
    {
      "cell_type": "code",
      "source": [
        "epochs = 3\n",
        "\n",
        "for epoch in range(epochs):\n",
        "    model.train()\n",
        "    total_loss = 0\n",
        "    for batch in train_loader:\n",
        "        optimizer.zero_grad()\n",
        "        input_ids = batch['input_ids'].to(device)\n",
        "        attention_mask = batch['attention_mask'].to(device)\n",
        "        pixel_values = batch['pixel_values'].to(device)\n",
        "        labels = batch['labels'].to(device)\n",
        "\n",
        "        outputs = model(input_ids, attention_mask, pixel_values)\n",
        "        loss = criterion(outputs, labels)\n",
        "        loss.backward()\n",
        "        optimizer.step()\n",
        "\n",
        "        total_loss += loss.item()\n",
        "\n",
        "    avg_loss = total_loss / len(train_loader)\n",
        "    print(f\"Epoch {epoch+1}, Training Loss: {avg_loss:.4f}\")"
      ],
      "metadata": {
        "id": "O3IZq8pR09IO"
      },
      "execution_count": null,
      "outputs": []
    },
    {
      "cell_type": "code",
      "source": [
        "model.eval()\n",
        "    val_preds = []\n",
        "    val_labels = []\n",
        "    with torch.no_grad():\n",
        "        for batch in val_loader:\n",
        "            input_ids = batch['input_ids'].to(device)\n",
        "            attention_mask = batch['attention_mask'].to(device)\n",
        "            pixel_values = batch['pixel_values'].to(device)\n",
        "            labels = batch['labels'].to(device)\n",
        "\n",
        "            outputs = model(input_ids, attention_mask, pixel_values)\n",
        "            preds = torch.argmax(outputs, dim=1)\n",
        "            val_preds.extend(preds.cpu().numpy())\n",
        "            val_labels.extend(labels.cpu().numpy())\n",
        "\n",
        "    acc = accuracy_score(val_labels, val_preds)\n",
        "    print(f\"Validation Accuracy: {acc:.4f}\")"
      ],
      "metadata": {
        "id": "X5uk8oR709K3"
      },
      "execution_count": null,
      "outputs": []
    },
    {
      "cell_type": "code",
      "source": [],
      "metadata": {
        "id": "immzraQP09Of"
      },
      "execution_count": null,
      "outputs": []
    },
    {
      "cell_type": "code",
      "source": [],
      "metadata": {
        "id": "EJJXNe3U0kOj"
      },
      "execution_count": null,
      "outputs": []
    },
    {
      "cell_type": "code",
      "source": [],
      "metadata": {
        "id": "yniCShrU0kPy"
      },
      "execution_count": null,
      "outputs": []
    }
  ]
}